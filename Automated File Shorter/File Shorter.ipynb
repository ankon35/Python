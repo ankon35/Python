{
 "cells": [
  {
   "cell_type": "markdown",
   "id": "42a4be79-0c3b-4409-a379-cbb973bde632",
   "metadata": {},
   "source": [
    "# Automated File shorter in File Explorer"
   ]
  },
  {
   "cell_type": "code",
   "execution_count": 3,
   "id": "44be970d-83fc-45f2-a0b8-73ee87e757e7",
   "metadata": {},
   "outputs": [],
   "source": [
    "import os , shutil"
   ]
  },
  {
   "cell_type": "code",
   "execution_count": 41,
   "id": "25d72d54-61ca-47c4-bf5a-c19bbba76f35",
   "metadata": {},
   "outputs": [],
   "source": [
    "path = r\"D:/Data Science/Data analyst/Python/File Shorter/\""
   ]
  },
  {
   "cell_type": "code",
   "execution_count": 93,
   "id": "91bf6cd0-996e-4c3e-8baa-c44f8027a6a5",
   "metadata": {},
   "outputs": [
    {
     "name": "stdout",
     "output_type": "stream",
     "text": [
      "['CSV File.xlsx', 'Image-1.jpg', 'Image-2.jpg', 'Text File.txt']\n"
     ]
    }
   ],
   "source": [
    "file_name= os.listdir(path)\n",
    "print (file_name)"
   ]
  },
  {
   "cell_type": "markdown",
   "id": "1c6152ca-e211-4698-87ad-6ed90fe0954e",
   "metadata": {},
   "source": [
    "# Make Folder"
   ]
  },
  {
   "cell_type": "code",
   "execution_count": 95,
   "id": "723f45ea-d363-40bc-b04a-1f1b2f6b50ef",
   "metadata": {},
   "outputs": [],
   "source": [
    "folder_name = [\"Csv Files\" , \"Image Files\" , \"Text Files\"]\n",
    "\n",
    "for loop in range(0,3):\n",
    "    if  not os.path.exists(path + folder_name[loop]):\n",
    "        os.makedirs(path + folder_name[loop] )"
   ]
  },
  {
   "cell_type": "markdown",
   "id": "7ff2e66b-963f-4ee2-8621-86c59fa40066",
   "metadata": {},
   "source": [
    "# Transfer Files accroding to document"
   ]
  },
  {
   "cell_type": "code",
   "execution_count": 97,
   "id": "1a5a94ff-de54-4e18-a7f1-28a74bdd001b",
   "metadata": {},
   "outputs": [],
   "source": [
    "for file in file_name:\n",
    "    if \".xlsx\" in file and not os.path.exists(path + \"Csv Files/\" + file):\n",
    "        shutil.move(path + file , path + \"Csv Files/\" + file )\n",
    "    elif \".jpg\" in file and not os.path.exists(path + \"Image Files/\" + file):\n",
    "        shutil.move(path + file , path + \"Image Files/\" + file )\n",
    "    elif \".txt\" in file and not os.path.exists(path + \"Text Files/\" + file):\n",
    "        shutil.move(path + file , path + \"Text Files/\" + file )"
   ]
  },
  {
   "cell_type": "code",
   "execution_count": null,
   "id": "f8939246-071c-4a36-9a27-099897d3dbd5",
   "metadata": {},
   "outputs": [],
   "source": []
  }
 ],
 "metadata": {
  "kernelspec": {
   "display_name": "Python 3 (ipykernel)",
   "language": "python",
   "name": "python3"
  },
  "language_info": {
   "codemirror_mode": {
    "name": "ipython",
    "version": 3
   },
   "file_extension": ".py",
   "mimetype": "text/x-python",
   "name": "python",
   "nbconvert_exporter": "python",
   "pygments_lexer": "ipython3",
   "version": "3.12.4"
  }
 },
 "nbformat": 4,
 "nbformat_minor": 5
}
